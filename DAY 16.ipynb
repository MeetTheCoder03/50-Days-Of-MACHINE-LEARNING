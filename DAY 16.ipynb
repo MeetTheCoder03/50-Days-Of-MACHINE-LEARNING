{
 "cells": [
  {
   "cell_type": "markdown",
   "metadata": {},
   "source": [
    "# Simple LInear Regression"
   ]
  },
  {
   "cell_type": "code",
   "execution_count": 10,
   "metadata": {},
   "outputs": [],
   "source": [
    "def simpleLinearRegression (input_features, output): \n",
    "    Xi =input_features\n",
    "    Yi = output\n",
    "    \n",
    "    n = len(Xi)\n",
    "    \n",
    "    Xi_mean=Xi.mean() \n",
    "    Yi_mean=Yi.mean()\n",
    "    \n",
    "    sum_Xi=Xi.sum() \n",
    "    sum_Yi=Yi.sum()\n",
    "    \n",
    "    sum_XiYi = ((Xi*Yi).sum())*n\n",
    "    \n",
    "    sum_Xi_sum_Yi = sum_Xi * sum_Yi\n",
    "    \n",
    "    sum_XiXi = ((Xi*Xi).sum())*n\n",
    "    \n",
    "    sum_Xi_square = sum_Xi*sum_Xi\n",
    "    \n",
    "    slope = (sum_XiYi - sum_Xi_sum_Yi) / (sum_XiXi - sum_Xi_square)\n",
    "    \n",
    "    intercept = Yi_mean - slope * Xi_mean\n",
    "    \n",
    "    return slope,intercept"
   ]
  },
  {
   "cell_type": "code",
   "execution_count": 11,
   "metadata": {},
   "outputs": [
    {
     "data": {
      "text/plain": [
       "(-0.6, 7.0)"
      ]
     },
     "execution_count": 11,
     "metadata": {},
     "output_type": "execute_result"
    }
   ],
   "source": [
    "import numpy as np\n",
    "trial_input = np.array((1,2,3,4,5))\n",
    "trial_output = np.array((7,3,6,9,1))\n",
    "simpleLinearRegression(trial_input,trial_output)"
   ]
  },
  {
   "cell_type": "code",
   "execution_count": null,
   "metadata": {},
   "outputs": [],
   "source": []
  }
 ],
 "metadata": {
  "kernelspec": {
   "display_name": "Python 3",
   "language": "python",
   "name": "python3"
  },
  "language_info": {
   "codemirror_mode": {
    "name": "ipython",
    "version": 3
   },
   "file_extension": ".py",
   "mimetype": "text/x-python",
   "name": "python",
   "nbconvert_exporter": "python",
   "pygments_lexer": "ipython3",
   "version": "3.8.5"
  }
 },
 "nbformat": 4,
 "nbformat_minor": 4
}
